{
  "nbformat": 4,
  "nbformat_minor": 0,
  "metadata": {
    "colab": {
      "provenance": []
    },
    "kernelspec": {
      "name": "python3",
      "display_name": "Python 3"
    },
    "language_info": {
      "name": "python"
    }
  },
  "cells": [
    {
      "cell_type": "markdown",
      "source": [
        "# 1. Leetcode 225"
      ],
      "metadata": {
        "id": "4Wj_0C2xjFIZ"
      }
    },
    {
      "cell_type": "code",
      "execution_count": null,
      "metadata": {
        "id": "5Uu3MUUCi6Yg"
      },
      "outputs": [],
      "source": [
        "from collections import deque\n",
        "\n",
        "class MyStack:\n",
        "\n",
        "    def __init__(self):\n",
        "        self.q=deque()\n",
        "\n",
        "\n",
        "    def push(self, x: int) -> None:\n",
        "        self.q.append(x)\n",
        "        for _ in range(len(self.q)-1):\n",
        "            self.q.append(self.q.popleft())\n",
        "\n",
        "    def pop(self) -> int:\n",
        "        return self.q.popleft()\n",
        "\n",
        "    def top(self) -> int:\n",
        "        return self.q[0]\n",
        "\n",
        "    def empty(self) -> bool:\n",
        "        return not self.q\n",
        "\n",
        "\n",
        "# Your MyStack object will be instantiated and called as such:\n",
        "# obj = MyStack()\n",
        "# obj.push(x)\n",
        "# param_2 = obj.pop()\n",
        "# param_3 = obj.top()\n",
        "# param_4 = obj.empty()"
      ]
    },
    {
      "cell_type": "markdown",
      "source": [
        "# 2. Leetcode 232"
      ],
      "metadata": {
        "id": "pNC5Xd_ijVu2"
      }
    },
    {
      "cell_type": "code",
      "source": [
        "class MyQueue:\n",
        "\n",
        "    def __init__(self):\n",
        "        self.in_stack = []\n",
        "        self.out_stack = []\n",
        "\n",
        "    def push(self, x: int) -> None:\n",
        "        self.in_stack.append(x)\n",
        "\n",
        "    def pop(self) -> int:\n",
        "        self._move()\n",
        "        return self.out_stack.pop()\n",
        "\n",
        "    def peek(self) -> int:\n",
        "        self._move()\n",
        "        return self.out_stack[-1]\n",
        "\n",
        "    def empty(self) -> bool:\n",
        "        return not self.in_stack and not self.out_stack\n",
        "\n",
        "    def _move(self):\n",
        "        if not self.out_stack:\n",
        "            while self.in_stack:\n",
        "                self.out_stack.append(self.in_stack.pop())\n",
        "\n",
        "\n",
        "\n",
        "# Your MyQueue object will be instantiated and called as such:\n",
        "# obj = MyQueue()\n",
        "# obj.push(x)\n",
        "# param_2 = obj.pop()\n",
        "# param_3 = obj.peek()\n",
        "# param_4 = obj.empty()"
      ],
      "metadata": {
        "id": "9w12q7aAG7Fy"
      },
      "execution_count": null,
      "outputs": []
    },
    {
      "cell_type": "markdown",
      "source": [
        "# 3. chapter 7 큐 연습문제"
      ],
      "metadata": {
        "id": "gD2gr7eDHBWO"
      }
    },
    {
      "cell_type": "markdown",
      "source": [
        "01번"
      ],
      "metadata": {
        "id": "wJXmsuwRReGh"
      }
    },
    {
      "cell_type": "code",
      "source": [
        "class ListQueue:\n",
        "    def __init__(self):\n",
        "        self.__queue = []\n",
        "\n",
        "    def enqueue(self, x):\n",
        "        self.__queue.insert(0, x)  # tail 쪽에 삽입\n",
        "\n",
        "    def dequeue(self):\n",
        "        return self.__queue.pop()  # front 쪽에서 제거\n",
        "\n",
        "    def front(self):\n",
        "        if self.is_empty():\n",
        "            return None\n",
        "        else:\n",
        "            return self.__queue[-1]  # front에 해당하는 요소 반환\n",
        "\n",
        "    def is_empty(self) -> bool:\n",
        "        return not bool(self.__queue)\n",
        "\n",
        "    def dequeue_all(self):\n",
        "        self.__queue.clear()"
      ],
      "metadata": {
        "id": "tnR1Knm1QU_x"
      },
      "execution_count": null,
      "outputs": []
    },
    {
      "cell_type": "markdown",
      "source": [
        "02번"
      ],
      "metadata": {
        "id": "kUpUwmL5SFQH"
      }
    },
    {
      "cell_type": "code",
      "source": [
        "def is_in_set(string: str) -> bool:\n",
        "    q = ListQueue()\n",
        "    index = 0\n",
        "    # $를 기준으로 앞쪽 문자열을 큐에 저장\n",
        "    while index < len(string) and string[index] != '$':\n",
        "        q.enqueue(string[index])\n",
        "        index += 1\n",
        "    # $가 없으면 형식에 맞지 않음\n",
        "    if index == len(string):\n",
        "        return False\n",
        "    # $ 다음 문자부터 비교 시작\n",
        "    index += 1\n",
        "    while index < len(string):\n",
        "        if q.is_empty():  # 앞부분보다 뒷부분이 더 길면 안 됨\n",
        "            return False\n",
        "        if q.dequeue() != string[index]:\n",
        "            return False\n",
        "        index += 1\n",
        "    # 큐가 비어 있어야 앞뒤 길이가 정확히 일치함\n",
        "    return q.is_empty()"
      ],
      "metadata": {
        "id": "mSPwtZ7cSGX6"
      },
      "execution_count": null,
      "outputs": []
    },
    {
      "cell_type": "markdown",
      "source": [
        "03번"
      ],
      "metadata": {
        "id": "XyYafd1RSI3d"
      }
    },
    {
      "cell_type": "code",
      "source": [
        "class Node:\n",
        "    def __init__(self, data=None, link=None):\n",
        "        self.data = data\n",
        "        self.link = link\n",
        "class CircularLinkedList:\n",
        "    def __init__(self):\n",
        "        self.tail = None\n",
        "        self.size = 0\n",
        "    def isEmpty(self):\n",
        "        return self.tail is None\n",
        "    def append(self, item):\n",
        "        new_node = Node(item)\n",
        "        if self.isEmpty():\n",
        "            self.tail = new_node\n",
        "            new_node.link = new_node\n",
        "        else:\n",
        "            new_node.link = self.tail.link\n",
        "            self.tail.link = new_node\n",
        "            self.tail = new_node\n",
        "        self.size += 1\n",
        "    def pop(self, pos):\n",
        "        if self.isEmpty() or pos < 0 or pos >= self.size:\n",
        "            return None\n",
        "        prev = self.tail\n",
        "        curr = self.tail.link\n",
        "        for _ in range(pos):\n",
        "            prev = curr\n",
        "            curr = curr.link\n",
        "        prev.link = curr.link\n",
        "        if curr == self.tail:\n",
        "            self.tail = prev if curr != prev else None\n",
        "        self.size -= 1\n",
        "        return curr.data\n",
        "    def get(self, pos):\n",
        "        if self.isEmpty() or pos < 0 or pos >= self.size:\n",
        "            return None\n",
        "        curr = self.tail.link\n",
        "        for _ in range(pos):\n",
        "            curr = curr.link\n",
        "        return curr.data\n",
        "    def clear(self):\n",
        "        self.tail = None\n",
        "        self.size = 0\n",
        "    def size(self):\n",
        "        return self.size\n",
        "\n",
        "class LinkedQueue:\n",
        "\tdef __init__(self):\n",
        "\t\tself.__queue = CircularLinkedList()\n",
        "\n",
        "\tdef enqueue(self, x):\n",
        "\t\tself.__queue.append(x)\n",
        "\n",
        "\tdef dequeue(self):\n",
        "\t\treturn self.__queue.pop(0)\t# .pop(0): 리스트의 첫 원소를 삭제한 후 원소 리턴\n",
        "\n",
        "\tdef front(self):\n",
        "\t\treturn self.__queue.get(0)\t # .get(0): 리스트의 첫 원소 리턴\n",
        "\n",
        "\tdef isEmpty(self) -> bool:\n",
        "\t\treturn self.__queue.isEmpty()\n",
        "\n",
        "\tdef dequeueAll(self):\n",
        "\t\tself.__queue.clear()\n",
        "\tdef printQueue(self):\n",
        "\t\tprint(\"Queue from front:\", end = ' ')\n",
        "\t\tfor i in range(self.__queue.size()):\n",
        "\t\t\tprint(self.__queue.get(i), end = ' ')\n",
        "\t\tprint()\n",
        "# 코드 7-13----------------------------------------------------------------------\n",
        "\n",
        "def copyLinkedQueue(a: LinkedQueue, b: LinkedQueue):\n",
        "    b.dequeue_all()  # b 비우기\n",
        "    temp_queue = LinkedQueue()\n",
        "\n",
        "    # a의 데이터를 temp_queue에 복사하고, 동시에 a를 유지\n",
        "    size = a.size()\n",
        "    for _ in range(size):\n",
        "        item = a.dequeue()\n",
        "        temp_queue.enqueue(item)\n",
        "        a.enqueue(item)  # 다시 a에 넣어 원래 순서 유지\n",
        "    # temp_queue에 저장된 데이터를 b로 복사\n",
        "    while not temp_queue.is_empty():\n",
        "        b.enqueue(temp_queue.dequeue())"
      ],
      "metadata": {
        "id": "z6nj3Ot_SJ24"
      },
      "execution_count": null,
      "outputs": []
    },
    {
      "cell_type": "markdown",
      "source": [
        "04번"
      ],
      "metadata": {
        "id": "bUnkpo9iSL2U"
      }
    },
    {
      "cell_type": "code",
      "source": [
        "def push(q1: LinkedQueue, q2: LinkedQueue, item):\n",
        "    q2.dequeue_all()\n",
        "    # Step 1: q1의 모든 원소를 q2로 옮긴다\n",
        "    while not q1.is_empty():\n",
        "        q2.enqueue(q1.dequeue())\n",
        "    # Step 2: item을 q1에 먼저 넣는다\n",
        "    q1.enqueue(item)\n",
        "    # Step 3: 다시 q2의 원소를 q1으로 넣어서 순서 복원\n",
        "    while not q2.is_empty():\n",
        "        q1.enqueue(q2.dequeue())\n",
        "\n",
        "def pop(q1: LinkedQueue, q2: LinkedQueue):\n",
        "    q2.dequeue_all()\n",
        "    # Step 1: q1의 원소를 q2로 다 옮기면서 개수 세기\n",
        "    count = 0\n",
        "    while not q1.is_empty():\n",
        "        q2.enqueue(q1.dequeue())\n",
        "        count += 1\n",
        "    # Step 2: count-1번만큼 다시 q1로 옮기기\n",
        "    for _ in range(count - 1):\n",
        "        q1.enqueue(q2.dequeue())\n",
        "    # Step 3: 마지막 요소 pop (스택의 top 역할)\n",
        "    return q2.dequeue()"
      ],
      "metadata": {
        "id": "3HtmTAdwSM0q"
      },
      "execution_count": null,
      "outputs": []
    },
    {
      "cell_type": "markdown",
      "source": [
        "05번"
      ],
      "metadata": {
        "id": "a4zVpwjbSPZa"
      }
    },
    {
      "cell_type": "code",
      "source": [
        "# def enqueue(s1: LinkedStack, s2: LinkedStack, item):\n",
        "#     s2.pop_all()\n",
        "#     while not s1.is_empty():\n",
        "#         s2.push(s1.pop())\n",
        "#     s1.push(item)\n",
        "#     while not s2.is_empty():\n",
        "#         s1.push(s2.pop())\n",
        "\n",
        "# def dequeue(s1: LinkedStack, s2: LinkedStack):\n",
        "#     s2.pop_all()\n",
        "#     while not s1.is_empty():\n",
        "#         s2.push(s1.pop())\n",
        "#     # Step 2: s2에서 하나 pop\n",
        "#     ret_item = s2.pop()\n",
        "#     # Step 3: 나머지를 다시 s1로 옮겨서 복원\n",
        "#     while not s2.is_empty():\n",
        "#         s1.push(s2.pop())\n",
        "#     # Step 4: 가장 먼저 들어온 요소 반환\n",
        "#     return ret_item\n",
        "\n",
        "class StackQueue:\n",
        "    def __init__(self):\n",
        "        self.stack1 = []\n",
        "        self.stack2 = []\n",
        "\n",
        "    def enqueue(self, item):\n",
        "        self.stack1.append(item)\n",
        "\n",
        "    def dequeue(self):\n",
        "        if not self.stack2:\n",
        "            # stack1의 모든 항목을 stack2로 옮김\n",
        "            while self.stack1:\n",
        "                self.stack2.append(self.stack1.pop())\n",
        "\n",
        "        if not self.stack2:\n",
        "            return None  # 큐가 비어 있음\n",
        "\n",
        "        return self.stack2.pop()\n",
        "\n",
        "    def is_empty(self):\n",
        "        return not (self.stack1 or self.stack2)\n",
        "\n",
        "    def front(self):\n",
        "        if not self.stack2:\n",
        "            while self.stack1:\n",
        "                self.stack2.append(self.stack1.pop())\n",
        "        return self.stack2[-1] if self.stack2 else None\n",
        "\n",
        "    def print_queue(self):\n",
        "        # 출력은 앞쪽이 왼쪽으로 오게 표시\n",
        "        temp = self.stack2[::-1] + self.stack1\n",
        "        print(\"Queue from front:\", end=' ')\n",
        "        for item in temp:\n",
        "            print(item, end=' ')\n",
        "        print()"
      ],
      "metadata": {
        "id": "i20UAurMSQeu"
      },
      "execution_count": null,
      "outputs": []
    },
    {
      "cell_type": "markdown",
      "source": [
        "06번"
      ],
      "metadata": {
        "id": "UI7qQN-2RjaZ"
      }
    },
    {
      "cell_type": "markdown",
      "source": [
        "구현하고자 하는 Deque는 단방향원형리스트를 기반으로 한다.\n",
        "또한, 이 Deque의 front는 리스트의 맨 앞이며 tail은 리스트의 맨 끝으로 한다.\n",
        "enqueue()의 수행시간은 Deque의 front에서 수행할 시 Θ(1), Deque의 tail에서 수행할 시 Θ(1)이다. 따라서 수행 위치에 상관없이 enqueue()의 수행 시간은 Θ(1)이다.\n",
        "dequeue()의 수행시간은 Deque의 front에서 수행할 시 Θ(1), Deque의 tail에서 수행할 시 Θ(1)이다. 따라서 수행 위치에 상관없이 dequeue()의 수행 시간은 Θ(1)이다."
      ],
      "metadata": {
        "id": "mjVS-Ok2HJkm"
      }
    },
    {
      "cell_type": "markdown",
      "source": [
        "07번"
      ],
      "metadata": {
        "id": "3cJgiIS4Rx6s"
      }
    },
    {
      "cell_type": "markdown",
      "source": [
        "구현하고자 하는 Deque는 단방향리스트를 기반으로 한다.\n",
        "또한, 이 Deque의 front는 리스트의 맨 앞이며 tail은 리스트의 맨 끝으로 한다.\n",
        "enqueue()의 수행시간은 Deque의 front에서 수행할 시 Θ(1), Deque의 tail에서 수행할 시 Θ(n)이다. 따라서 enqueue()의 수행 시간은 최악의 경우를 고려해 Θ(n)이다.\n",
        "dequeue()의 수행시간은 Deque의 front에서 수행할 시 Θ(1), Deque의 tail에서 수행할 시 Θ(n)이다. 따라서 dequeue()의 수행 시간은 최악의 경우를 고려해 Θ(n)이다."
      ],
      "metadata": {
        "id": "zh2cE3IkR0mA"
      }
    },
    {
      "cell_type": "markdown",
      "source": [
        "08번"
      ],
      "metadata": {
        "id": "ilpPKCLfSB9e"
      }
    },
    {
      "cell_type": "code",
      "source": [
        "class Deque:\n",
        "    def __init__(self):\n",
        "        self.__queue = []\n",
        "\n",
        "    def enqueue(self, item):\n",
        "        # 뒤에 삽입 (rear에 추가)\n",
        "        self.__queue.append(item)\n",
        "\n",
        "    def dequeue(self):\n",
        "        # 앞에서 제거 (front에서 제거)\n",
        "        if self.is_empty():\n",
        "            return None\n",
        "        return self.__queue.pop(0)\n",
        "\n",
        "    def push(self, item):\n",
        "        # 앞에 삽입 (front에 추가)\n",
        "        self.__queue.insert(0, item)\n",
        "\n",
        "    def pop(self):\n",
        "        # 뒤에서 제거 (rear에서 제거)\n",
        "        if self.is_empty():\n",
        "            return None\n",
        "        return self.__queue.pop()\n",
        "\n",
        "    def front(self):\n",
        "        if self.is_empty():\n",
        "            return None\n",
        "        return self.__queue[0]\n",
        "\n",
        "    def rear(self):\n",
        "        if self.is_empty():\n",
        "            return None\n",
        "        return self.__queue[-1]\n",
        "\n",
        "    def is_empty(self):\n",
        "        return len(self.__queue) == 0\n",
        "\n",
        "    def deque_all(self):\n",
        "        self.__queue.clear()\n",
        "\n",
        "    def print_deque(self):\n",
        "        print(\"Deque from front:\", end=' ')\n",
        "        for item in self.__queue:\n",
        "            print(item, end=' ')\n",
        "        print()\n"
      ],
      "metadata": {
        "id": "UhRjxjijRw40"
      },
      "execution_count": null,
      "outputs": []
    }
  ]
}