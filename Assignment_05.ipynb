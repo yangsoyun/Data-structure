{
  "nbformat": 4,
  "nbformat_minor": 0,
  "metadata": {
    "colab": {
      "provenance": []
    },
    "kernelspec": {
      "name": "python3",
      "display_name": "Python 3"
    },
    "language_info": {
      "name": "python"
    }
  },
  "cells": [
    {
      "cell_type": "markdown",
      "source": [
        "# 3번"
      ],
      "metadata": {
        "id": "og2IW-hU8v_5"
      }
    },
    {
      "cell_type": "code",
      "source": [
        "from google.colab import files\n",
        "uploaded = files.upload()"
      ],
      "metadata": {
        "colab": {
          "base_uri": "https://localhost:8080/",
          "height": 78
        },
        "id": "DoZSESxAOE1R",
        "outputId": "d3cc8546-c31a-4604-ace3-b0f143c084da"
      },
      "execution_count": 1,
      "outputs": [
        {
          "output_type": "display_data",
          "data": {
            "text/plain": [
              "<IPython.core.display.HTML object>"
            ],
            "text/html": [
              "\n",
              "     <input type=\"file\" id=\"files-fd8bae0c-2dc1-4cdb-9141-1cccb6fccf73\" name=\"files[]\" multiple disabled\n",
              "        style=\"border:none\" />\n",
              "     <output id=\"result-fd8bae0c-2dc1-4cdb-9141-1cccb6fccf73\">\n",
              "      Upload widget is only available when the cell has been executed in the\n",
              "      current browser session. Please rerun this cell to enable.\n",
              "      </output>\n",
              "      <script>// Copyright 2017 Google LLC\n",
              "//\n",
              "// Licensed under the Apache License, Version 2.0 (the \"License\");\n",
              "// you may not use this file except in compliance with the License.\n",
              "// You may obtain a copy of the License at\n",
              "//\n",
              "//      http://www.apache.org/licenses/LICENSE-2.0\n",
              "//\n",
              "// Unless required by applicable law or agreed to in writing, software\n",
              "// distributed under the License is distributed on an \"AS IS\" BASIS,\n",
              "// WITHOUT WARRANTIES OR CONDITIONS OF ANY KIND, either express or implied.\n",
              "// See the License for the specific language governing permissions and\n",
              "// limitations under the License.\n",
              "\n",
              "/**\n",
              " * @fileoverview Helpers for google.colab Python module.\n",
              " */\n",
              "(function(scope) {\n",
              "function span(text, styleAttributes = {}) {\n",
              "  const element = document.createElement('span');\n",
              "  element.textContent = text;\n",
              "  for (const key of Object.keys(styleAttributes)) {\n",
              "    element.style[key] = styleAttributes[key];\n",
              "  }\n",
              "  return element;\n",
              "}\n",
              "\n",
              "// Max number of bytes which will be uploaded at a time.\n",
              "const MAX_PAYLOAD_SIZE = 100 * 1024;\n",
              "\n",
              "function _uploadFiles(inputId, outputId) {\n",
              "  const steps = uploadFilesStep(inputId, outputId);\n",
              "  const outputElement = document.getElementById(outputId);\n",
              "  // Cache steps on the outputElement to make it available for the next call\n",
              "  // to uploadFilesContinue from Python.\n",
              "  outputElement.steps = steps;\n",
              "\n",
              "  return _uploadFilesContinue(outputId);\n",
              "}\n",
              "\n",
              "// This is roughly an async generator (not supported in the browser yet),\n",
              "// where there are multiple asynchronous steps and the Python side is going\n",
              "// to poll for completion of each step.\n",
              "// This uses a Promise to block the python side on completion of each step,\n",
              "// then passes the result of the previous step as the input to the next step.\n",
              "function _uploadFilesContinue(outputId) {\n",
              "  const outputElement = document.getElementById(outputId);\n",
              "  const steps = outputElement.steps;\n",
              "\n",
              "  const next = steps.next(outputElement.lastPromiseValue);\n",
              "  return Promise.resolve(next.value.promise).then((value) => {\n",
              "    // Cache the last promise value to make it available to the next\n",
              "    // step of the generator.\n",
              "    outputElement.lastPromiseValue = value;\n",
              "    return next.value.response;\n",
              "  });\n",
              "}\n",
              "\n",
              "/**\n",
              " * Generator function which is called between each async step of the upload\n",
              " * process.\n",
              " * @param {string} inputId Element ID of the input file picker element.\n",
              " * @param {string} outputId Element ID of the output display.\n",
              " * @return {!Iterable<!Object>} Iterable of next steps.\n",
              " */\n",
              "function* uploadFilesStep(inputId, outputId) {\n",
              "  const inputElement = document.getElementById(inputId);\n",
              "  inputElement.disabled = false;\n",
              "\n",
              "  const outputElement = document.getElementById(outputId);\n",
              "  outputElement.innerHTML = '';\n",
              "\n",
              "  const pickedPromise = new Promise((resolve) => {\n",
              "    inputElement.addEventListener('change', (e) => {\n",
              "      resolve(e.target.files);\n",
              "    });\n",
              "  });\n",
              "\n",
              "  const cancel = document.createElement('button');\n",
              "  inputElement.parentElement.appendChild(cancel);\n",
              "  cancel.textContent = 'Cancel upload';\n",
              "  const cancelPromise = new Promise((resolve) => {\n",
              "    cancel.onclick = () => {\n",
              "      resolve(null);\n",
              "    };\n",
              "  });\n",
              "\n",
              "  // Wait for the user to pick the files.\n",
              "  const files = yield {\n",
              "    promise: Promise.race([pickedPromise, cancelPromise]),\n",
              "    response: {\n",
              "      action: 'starting',\n",
              "    }\n",
              "  };\n",
              "\n",
              "  cancel.remove();\n",
              "\n",
              "  // Disable the input element since further picks are not allowed.\n",
              "  inputElement.disabled = true;\n",
              "\n",
              "  if (!files) {\n",
              "    return {\n",
              "      response: {\n",
              "        action: 'complete',\n",
              "      }\n",
              "    };\n",
              "  }\n",
              "\n",
              "  for (const file of files) {\n",
              "    const li = document.createElement('li');\n",
              "    li.append(span(file.name, {fontWeight: 'bold'}));\n",
              "    li.append(span(\n",
              "        `(${file.type || 'n/a'}) - ${file.size} bytes, ` +\n",
              "        `last modified: ${\n",
              "            file.lastModifiedDate ? file.lastModifiedDate.toLocaleDateString() :\n",
              "                                    'n/a'} - `));\n",
              "    const percent = span('0% done');\n",
              "    li.appendChild(percent);\n",
              "\n",
              "    outputElement.appendChild(li);\n",
              "\n",
              "    const fileDataPromise = new Promise((resolve) => {\n",
              "      const reader = new FileReader();\n",
              "      reader.onload = (e) => {\n",
              "        resolve(e.target.result);\n",
              "      };\n",
              "      reader.readAsArrayBuffer(file);\n",
              "    });\n",
              "    // Wait for the data to be ready.\n",
              "    let fileData = yield {\n",
              "      promise: fileDataPromise,\n",
              "      response: {\n",
              "        action: 'continue',\n",
              "      }\n",
              "    };\n",
              "\n",
              "    // Use a chunked sending to avoid message size limits. See b/62115660.\n",
              "    let position = 0;\n",
              "    do {\n",
              "      const length = Math.min(fileData.byteLength - position, MAX_PAYLOAD_SIZE);\n",
              "      const chunk = new Uint8Array(fileData, position, length);\n",
              "      position += length;\n",
              "\n",
              "      const base64 = btoa(String.fromCharCode.apply(null, chunk));\n",
              "      yield {\n",
              "        response: {\n",
              "          action: 'append',\n",
              "          file: file.name,\n",
              "          data: base64,\n",
              "        },\n",
              "      };\n",
              "\n",
              "      let percentDone = fileData.byteLength === 0 ?\n",
              "          100 :\n",
              "          Math.round((position / fileData.byteLength) * 100);\n",
              "      percent.textContent = `${percentDone}% done`;\n",
              "\n",
              "    } while (position < fileData.byteLength);\n",
              "  }\n",
              "\n",
              "  // All done.\n",
              "  yield {\n",
              "    response: {\n",
              "      action: 'complete',\n",
              "    }\n",
              "  };\n",
              "}\n",
              "\n",
              "scope.google = scope.google || {};\n",
              "scope.google.colab = scope.google.colab || {};\n",
              "scope.google.colab._files = {\n",
              "  _uploadFiles,\n",
              "  _uploadFilesContinue,\n",
              "};\n",
              "})(self);\n",
              "</script> "
            ]
          },
          "metadata": {}
        },
        {
          "output_type": "stream",
          "name": "stdout",
          "text": [
            "Saving birthday.csv to birthday.csv\n"
          ]
        }
      ]
    },
    {
      "cell_type": "code",
      "execution_count": 2,
      "metadata": {
        "id": "YkEjp7AU5x2Y",
        "colab": {
          "base_uri": "https://localhost:8080/"
        },
        "outputId": "eb22d33e-6cc6-4c0b-d62d-22cc06ebf78e"
      },
      "outputs": [
        {
          "output_type": "stream",
          "name": "stdout",
          "text": [
            "     이름      생년월일\n",
            "1   홍서연  20241282\n",
            "2   신수민  20051230\n",
            "3   이서영  20051225\n",
            "4   강민주  20051214\n",
            "5   김민경  20051202\n",
            "6   이서영  20051112\n",
            "7   배시은  20051102\n",
            "8   김여원  20051031\n",
            "9   이서진  20051028\n",
            "10  서홍빈  20051024\n"
          ]
        }
      ],
      "source": [
        "# heap.py이용하여 생일이 느린 순서로 10명의 친구 출력\n",
        "\n",
        "import pandas as pd\n",
        "import heapq\n",
        "\n",
        "df = pd.read_csv(\"birthday.csv\")\n",
        "\n",
        "class Heap:\n",
        "    def __init__(self, lst=None):\n",
        "        if lst is None:\n",
        "            self.__A = []\n",
        "        else:\n",
        "            self.__A = lst\n",
        "        heapq._heapify_max(self.__A)\n",
        "\n",
        "    def insert(self, x):\n",
        "        self.__A.append(x)\n",
        "        heapq._siftdown_max(self.__A, 0, len(self.__A)-1)\n",
        "\n",
        "    def deleteMax(self):\n",
        "        if not self.isEmpty():\n",
        "            return heapq._heappop_max(self.__A)\n",
        "        return None\n",
        "\n",
        "    def max(self):\n",
        "        return self.__A[0] if not self.isEmpty() else None\n",
        "\n",
        "    def buildHeap(self):\n",
        "        heapq._heapify_max(self.__A)\n",
        "\n",
        "    def size(self):\n",
        "        return len(self.__A)\n",
        "\n",
        "    def isEmpty(self):\n",
        "        return len(self.__A) == 0\n",
        "\n",
        "    def clear(self):\n",
        "        self.__A = []\n",
        "\n",
        "# 생일이 NaN이 아닌 경우만 힙에 삽입\n",
        "heap_data = []\n",
        "for _, row in df.iterrows():\n",
        "    name = row['이름']\n",
        "    birth_raw = row['생년월일8자리(예.20040101)']\n",
        "    if pd.notna(birth_raw):\n",
        "        birth = int(birth_raw)\n",
        "        heap_data.append((birth, name))  # 생일이 클수록 최근\n",
        "\n",
        "# 최대 힙 생성\n",
        "heap = Heap(heap_data)\n",
        "\n",
        "# 생일이 늦은 순으로 10명 추출\n",
        "top_10 = []\n",
        "for _ in range(10):\n",
        "    if not heap.isEmpty():\n",
        "        birth, name = heap.deleteMax()\n",
        "        top_10.append((name, birth))\n",
        "\n",
        "top_df = pd.DataFrame(top_10, columns=[\"이름\",\"생년월일\"], index=range(1, 11))\n",
        "print(top_df)"
      ]
    },
    {
      "cell_type": "markdown",
      "source": [
        "#4번"
      ],
      "metadata": {
        "id": "tbNEjTXe_XjB"
      }
    },
    {
      "cell_type": "code",
      "source": [
        "# circularDoublyLinkedList.py을 이용하여 같은 조원들의 이름과 생일 출력\n",
        "\n",
        "import pandas as pd\n",
        "\n",
        "df = pd.read_csv(\"birthday.csv\")\n",
        "\n",
        "df.columns = ['학번', '이름', '생년월일']\n",
        "df['학번'] = df['학번'].astype(str)\n",
        "df['생년월일'] = df['생년월일'].astype(str).str.replace('.0', '', regex=False)\n",
        "\n",
        "class BidirectNode:\n",
        "    def __init__(self, x, prevNode:'BidirectNode', nextNode:'BidirectNode'):\n",
        "        self.item = x\n",
        "        self.prev = prevNode\n",
        "        self.next = nextNode\n",
        "\n",
        "class CircularDoublyLinkedList:\n",
        "    def __init__(self):\n",
        "        self.__head = BidirectNode(\"dummy\", None, None)\n",
        "        self.__head.prev = self.__head\n",
        "        self.__head.next = self.__head\n",
        "        self.__numItems = 0\n",
        "\n",
        "    def append(self, newItem):\n",
        "        prev = self.__head.prev\n",
        "        newNode = BidirectNode(newItem, prev, self.__head)\n",
        "        prev.next = newNode\n",
        "        self.__head.prev = newNode\n",
        "        self.__numItems += 1\n",
        "\n",
        "    def __iter__(self):\n",
        "        return CircularDoublyLinkedListIterator(self)\n",
        "\n",
        "    def getNode(self, i: int):\n",
        "        curr = self.__head\n",
        "        for index in range(i + 1):\n",
        "            curr = curr.next\n",
        "        return curr\n",
        "\n",
        "class CircularDoublyLinkedListIterator:\n",
        "    def __init__(self, alist):\n",
        "        self.__head = alist.getNode(-1)\n",
        "        self.iterPosition = self.__head.next\n",
        "\n",
        "    def __next__(self):\n",
        "        if self.iterPosition == self.__head:\n",
        "            raise StopIteration\n",
        "        else:\n",
        "            item = self.iterPosition.item\n",
        "            self.iterPosition = self.iterPosition.next\n",
        "            return item\n",
        "\n",
        "    def __iter__(self):\n",
        "        return self\n",
        "\n",
        "my_team1 = {\"김난영\", \"류현주\", \"주희선\", \"이재인\", \"김수민\", \"김미배\", \"이예성\",\n",
        "           \"김연우\", \"양소윤\", \"유채원\", \"이서현\", \"김남은\", \"이서진\"}\n",
        "\n",
        "birth_list = CircularDoublyLinkedList()\n",
        "\n",
        "for _, row in df.iterrows():\n",
        "    name = row['이름']\n",
        "    sid = row['학번']\n",
        "    birth = row['생년월일']\n",
        "\n",
        "    if name in my_team1:\n",
        "        if name == \"이서진\" and not sid.endswith(\"43\"): #동명이인 이서진 구별을 위해 조건 추가\n",
        "            continue\n",
        "        birth_list.append((name, birth))\n",
        "\n",
        "print(\"1조 생일 정보:\")\n",
        "for 이름, 생일 in birth_list:\n",
        "    print(f\"이름: {이름}, 생일: {생일}\")\n"
      ],
      "metadata": {
        "id": "M-cWV1ohAl3S",
        "colab": {
          "base_uri": "https://localhost:8080/"
        },
        "outputId": "38db6482-8436-4ff9-baa8-187eb0fb385c"
      },
      "execution_count": 3,
      "outputs": [
        {
          "output_type": "stream",
          "name": "stdout",
          "text": [
            "1조 생일 정보:\n",
            "이름: 김난영, 생일: 20040117\n",
            "이름: 김남은, 생일: 20000209\n",
            "이름: 김미배, 생일: 20050324\n",
            "이름: 김수민, 생일: 20041207\n",
            "이름: 김연우, 생일: nan\n",
            "이름: 류현주, 생일: nan\n",
            "이름: 양소윤, 생일: 20030702\n",
            "이름: 유채원, 생일: 20050920\n",
            "이름: 이서진, 생일: 20050305\n",
            "이름: 이서현, 생일: 20040609\n",
            "이름: 이예성, 생일: nan\n",
            "이름: 이재인, 생일: 20041107\n",
            "이름: 주희선, 생일: 20050926\n"
          ]
        }
      ]
    },
    {
      "cell_type": "markdown",
      "source": [
        "#5번 chapter 8 우선 순위 큐 연습문제"
      ],
      "metadata": {
        "id": "Y99D29nD_gKz"
      }
    },
    {
      "cell_type": "markdown",
      "source": [
        "01번"
      ],
      "metadata": {
        "id": "Q3T1P_FyAnYV"
      }
    },
    {
      "cell_type": "markdown",
      "source": [
        "임의의 최대 힙에서 더 얕은 곳에 있는 원소가 더 깊은 곳에 있는 원소보다 더 작은 값을 가질 수 있다. 예를 들어보면, heap[1] = 7, heap[2] = 10, heap[5] = 9인 힙이 있다. heap[1]과 heap[2]는 깊이가 같고, heap[5]는 heap[1]보다 깊이가 깊지만 값은 작다. heap[5]는 heap[2]의 자식 노드로, heap[2] > heap[5]이기 때문에 힙의 조건을 만족한다."
      ],
      "metadata": {
        "id": "II0wkB8GBC2v"
      }
    },
    {
      "cell_type": "markdown",
      "source": [
        "02번"
      ],
      "metadata": {
        "id": "wmYna8OdBMHu"
      }
    },
    {
      "cell_type": "markdown",
      "source": [
        "최대 힙의 마지막 원소가 항상 가장 작은 값은 아니다. heap[0] = 10, heap[1] = 7, heap[2] = 9이고 이 두 노드가 말단 노드인 힙이 있다고 한다. 이 힙은 heap[0] > heap[1], heap[0] > heap[2]가 되어 힙의 조건을 만족하며, heap[n-2] < heap[n-1]을 만족하는 힙이다."
      ],
      "metadata": {
        "id": "KUkOxyVmBN-H"
      }
    },
    {
      "cell_type": "markdown",
      "source": [
        "03번"
      ],
      "metadata": {
        "id": "zplvV6xeBSk3"
      }
    },
    {
      "cell_type": "markdown",
      "source": [
        "길이가 n인 임의의 리스트를 힙으로 만들 때, 마지막 요소의 인덱스는 n-1이다. 따라서 인덱스가 ((n-1)-1)//2 즉 (n-2)//2부터 0까지의 인덱스를 갖는 요소를 대상으로 스며내리기를 진행한다. 따라서 루트의 자격으로 스며내리기를 하지 않고 그냥 넘어가는 원소 수는 정확하게 n-1-(n-2)//2개이다."
      ],
      "metadata": {
        "id": "gD9EBc88BWkV"
      }
    },
    {
      "cell_type": "markdown",
      "source": [
        "04번"
      ],
      "metadata": {
        "id": "SZJm8LS_BW7R"
      }
    },
    {
      "cell_type": "markdown",
      "source": [
        "길이가 n인 리스트를 대상으로 하는 스며내리기 알고리즘에서 최악의 경우 Θ(logn)의 시간이 소요된다. 이진 탐색 트리의 깊이에 따라 층을 나누면 층의 개수는 약 (logn + 1)개가 된다. 스며내리기의 대상이 되는 리스트의 인덱스가 0인 요소가 이 리스트의 가장 작은 값이라면 최악의 경우가 되어, 스며내리기를 logn번 진행해야 한다. 최선의 경우에는 Θ(1)의 시간이 소요된다. 스며내리기의 대상이 되는 리스트의 인덱스가 0인 요소가 이 리스트의 가장 큰 값이라면 인덱스가 1, 2인 요소보다 크기 때문에 스며내리기는 진행되지 않고 멈춘다."
      ],
      "metadata": {
        "id": "fWxMdzXOBuf2"
      }
    },
    {
      "cell_type": "markdown",
      "source": [
        "05번"
      ],
      "metadata": {
        "id": "VjC4JI3dByOa"
      }
    },
    {
      "cell_type": "markdown",
      "source": [
        "이 문제에서 말하는 마지막 원소가 단순히 리스트의 마지막 원소라면 매우 간단히 원소를 삭제할 수 있다. 하지만 여기서 말하는 마지막 원소가 우선순위의 마지막이 되는 원소라면 힙의 마지막 원소를 삭제하는 작업은 그렇게 간단하지는 않다. 연습문제 2번에서 확인한 바와 같이 마지막 원소가 항상 가장 작은 값을 가지지도 않고, 연습문제 1번에서 확인한 바와 같이 깊이가 깊은 원소가 항상 깊이가 얕은 원소보다 작은 값을 가지지도 않는다.\n",
        "\n",
        "하지만 힙의 특성상 자식 노드는 부모 노드보다 작은 값을 가지기 때문에, 깊이가 2인 모든 서브 트리들의 원소들만 비교하면 가장 마지막 원소를 어렵지 않게 찾을 수 있다. 겨우 깊이가 2인 서브 트리이기 때문에 원소의 삭제 작업도 간단하다."
      ],
      "metadata": {
        "id": "hiTBj-txBzqb"
      }
    },
    {
      "cell_type": "markdown",
      "source": [
        "06번"
      ],
      "metadata": {
        "id": "CihD0f3xCBD-"
      }
    },
    {
      "cell_type": "markdown",
      "source": [
        "위쪽부터 시작해서 스며오르기를 반복하여 build_heap() 알고리즘을 구현한다고 해보자. index가 0인 요소에는 이미 맨 위의 요소이므로 스며오르기를 할 수 없다. 따라서 index가 1인 요소부터 index가 n-1(마지막)인 요소까지 진행한다. 처음 스며오르기를 진행할 땐 대상 노드의 깊이가 얕기 때문에 비교와 교체 작업이 많지 않지만, index가 커질수록 대상 노드의 깊이가 깊어져 스며오르기를 logn번 진행해야 할 수도 있다.\n",
        "n/2 * logn + n/4 * log(n-1) + n/8 * log(n-2) + ... + n/(2**(n-1)) * log2 즉 Θ(nlogn)의 시간이 소요된다. 이 방법은 Θ(n)의 시간이 소요되는 스며내리기를 이용한 build_heap() 알고리즘보다 비효율적이다."
      ],
      "metadata": {
        "id": "mvslIaRnCC5U"
      }
    },
    {
      "cell_type": "markdown",
      "source": [
        "07번"
      ],
      "metadata": {
        "id": "voB29aq_CNV2"
      }
    },
    {
      "cell_type": "markdown",
      "source": [
        "임의의 원소의 값이 증가했다면, 그 원소에 해당하는 노드를 제거하는 delete_max() 작업을 실행한다. 이 작업에 소요되는 시간은 O(logn)이다. 그리고 증가한 원소의 값을 갖는 노드를 힙에 추가한다. 노드를 추가하는 작업 insert()는 O(logn)의 시간이 든다.\n",
        "이 두 작업을 통해 힙을 O(logn) 시간만에 변화를 반영하여 힙을 수선할 수 있다."
      ],
      "metadata": {
        "id": "zuwzh9x1CO19"
      }
    },
    {
      "cell_type": "markdown",
      "source": [
        "# 6번 LeetCode 703"
      ],
      "metadata": {
        "id": "NxSIRgXbAte2"
      }
    },
    {
      "cell_type": "code",
      "source": [
        "import heapq\n",
        "from typing import List\n",
        "\n",
        "class KthLargest:\n",
        "\n",
        "    def __init__(self, k: int, nums: List[int]):\n",
        "        self.k = k\n",
        "        self.heap = nums\n",
        "        heapq.heapify(self.heap)\n",
        "        while len(self.heap) > k:\n",
        "            heapq.heappop(self.heap)\n",
        "\n",
        "    def add(self, val: int) -> int:\n",
        "        heapq.heappush(self.heap, val)\n",
        "        if len(self.heap) > self.k:\n",
        "            heapq.heappop(self.heap)\n",
        "        return self.heap[0]\n",
        "\n",
        "\n",
        "# Your KthLargest object will be instantiated and called as such:\n",
        "# obj = KthLargest(k, nums)\n",
        "# param_1 = obj.add(val)"
      ],
      "metadata": {
        "id": "4LobBfquA1Cb"
      },
      "execution_count": 4,
      "outputs": []
    }
  ]
}